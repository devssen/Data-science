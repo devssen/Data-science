{
  "nbformat": 4,
  "nbformat_minor": 0,
  "metadata": {
    "colab": {
      "provenance": []
    },
    "kernelspec": {
      "name": "python3",
      "display_name": "Python 3"
    },
    "language_info": {
      "name": "python"
    }
  },
  "cells": [
    {
      "cell_type": "code",
      "source": [
        "import pandas as pd"
      ],
      "metadata": {
        "id": "48E0AgEzLbL-"
      },
      "execution_count": 1,
      "outputs": []
    },
    {
      "cell_type": "code",
      "source": [
        "from google.colab import files\n",
        "uploaded = files.upload()"
      ],
      "metadata": {
        "colab": {
          "base_uri": "https://localhost:8080/",
          "height": 74
        },
        "id": "8UDzvSxcLdKE",
        "outputId": "e7d83b79-a20c-4ed6-e546-864542ea7dc2"
      },
      "execution_count": 2,
      "outputs": [
        {
          "output_type": "display_data",
          "data": {
            "text/plain": [
              "<IPython.core.display.HTML object>"
            ],
            "text/html": [
              "\n",
              "     <input type=\"file\" id=\"files-aa544e54-fd66-48a1-9d70-5a8bc6d5d2e0\" name=\"files[]\" multiple disabled\n",
              "        style=\"border:none\" />\n",
              "     <output id=\"result-aa544e54-fd66-48a1-9d70-5a8bc6d5d2e0\">\n",
              "      Upload widget is only available when the cell has been executed in the\n",
              "      current browser session. Please rerun this cell to enable.\n",
              "      </output>\n",
              "      <script>// Copyright 2017 Google LLC\n",
              "//\n",
              "// Licensed under the Apache License, Version 2.0 (the \"License\");\n",
              "// you may not use this file except in compliance with the License.\n",
              "// You may obtain a copy of the License at\n",
              "//\n",
              "//      http://www.apache.org/licenses/LICENSE-2.0\n",
              "//\n",
              "// Unless required by applicable law or agreed to in writing, software\n",
              "// distributed under the License is distributed on an \"AS IS\" BASIS,\n",
              "// WITHOUT WARRANTIES OR CONDITIONS OF ANY KIND, either express or implied.\n",
              "// See the License for the specific language governing permissions and\n",
              "// limitations under the License.\n",
              "\n",
              "/**\n",
              " * @fileoverview Helpers for google.colab Python module.\n",
              " */\n",
              "(function(scope) {\n",
              "function span(text, styleAttributes = {}) {\n",
              "  const element = document.createElement('span');\n",
              "  element.textContent = text;\n",
              "  for (const key of Object.keys(styleAttributes)) {\n",
              "    element.style[key] = styleAttributes[key];\n",
              "  }\n",
              "  return element;\n",
              "}\n",
              "\n",
              "// Max number of bytes which will be uploaded at a time.\n",
              "const MAX_PAYLOAD_SIZE = 100 * 1024;\n",
              "\n",
              "function _uploadFiles(inputId, outputId) {\n",
              "  const steps = uploadFilesStep(inputId, outputId);\n",
              "  const outputElement = document.getElementById(outputId);\n",
              "  // Cache steps on the outputElement to make it available for the next call\n",
              "  // to uploadFilesContinue from Python.\n",
              "  outputElement.steps = steps;\n",
              "\n",
              "  return _uploadFilesContinue(outputId);\n",
              "}\n",
              "\n",
              "// This is roughly an async generator (not supported in the browser yet),\n",
              "// where there are multiple asynchronous steps and the Python side is going\n",
              "// to poll for completion of each step.\n",
              "// This uses a Promise to block the python side on completion of each step,\n",
              "// then passes the result of the previous step as the input to the next step.\n",
              "function _uploadFilesContinue(outputId) {\n",
              "  const outputElement = document.getElementById(outputId);\n",
              "  const steps = outputElement.steps;\n",
              "\n",
              "  const next = steps.next(outputElement.lastPromiseValue);\n",
              "  return Promise.resolve(next.value.promise).then((value) => {\n",
              "    // Cache the last promise value to make it available to the next\n",
              "    // step of the generator.\n",
              "    outputElement.lastPromiseValue = value;\n",
              "    return next.value.response;\n",
              "  });\n",
              "}\n",
              "\n",
              "/**\n",
              " * Generator function which is called between each async step of the upload\n",
              " * process.\n",
              " * @param {string} inputId Element ID of the input file picker element.\n",
              " * @param {string} outputId Element ID of the output display.\n",
              " * @return {!Iterable<!Object>} Iterable of next steps.\n",
              " */\n",
              "function* uploadFilesStep(inputId, outputId) {\n",
              "  const inputElement = document.getElementById(inputId);\n",
              "  inputElement.disabled = false;\n",
              "\n",
              "  const outputElement = document.getElementById(outputId);\n",
              "  outputElement.innerHTML = '';\n",
              "\n",
              "  const pickedPromise = new Promise((resolve) => {\n",
              "    inputElement.addEventListener('change', (e) => {\n",
              "      resolve(e.target.files);\n",
              "    });\n",
              "  });\n",
              "\n",
              "  const cancel = document.createElement('button');\n",
              "  inputElement.parentElement.appendChild(cancel);\n",
              "  cancel.textContent = 'Cancel upload';\n",
              "  const cancelPromise = new Promise((resolve) => {\n",
              "    cancel.onclick = () => {\n",
              "      resolve(null);\n",
              "    };\n",
              "  });\n",
              "\n",
              "  // Wait for the user to pick the files.\n",
              "  const files = yield {\n",
              "    promise: Promise.race([pickedPromise, cancelPromise]),\n",
              "    response: {\n",
              "      action: 'starting',\n",
              "    }\n",
              "  };\n",
              "\n",
              "  cancel.remove();\n",
              "\n",
              "  // Disable the input element since further picks are not allowed.\n",
              "  inputElement.disabled = true;\n",
              "\n",
              "  if (!files) {\n",
              "    return {\n",
              "      response: {\n",
              "        action: 'complete',\n",
              "      }\n",
              "    };\n",
              "  }\n",
              "\n",
              "  for (const file of files) {\n",
              "    const li = document.createElement('li');\n",
              "    li.append(span(file.name, {fontWeight: 'bold'}));\n",
              "    li.append(span(\n",
              "        `(${file.type || 'n/a'}) - ${file.size} bytes, ` +\n",
              "        `last modified: ${\n",
              "            file.lastModifiedDate ? file.lastModifiedDate.toLocaleDateString() :\n",
              "                                    'n/a'} - `));\n",
              "    const percent = span('0% done');\n",
              "    li.appendChild(percent);\n",
              "\n",
              "    outputElement.appendChild(li);\n",
              "\n",
              "    const fileDataPromise = new Promise((resolve) => {\n",
              "      const reader = new FileReader();\n",
              "      reader.onload = (e) => {\n",
              "        resolve(e.target.result);\n",
              "      };\n",
              "      reader.readAsArrayBuffer(file);\n",
              "    });\n",
              "    // Wait for the data to be ready.\n",
              "    let fileData = yield {\n",
              "      promise: fileDataPromise,\n",
              "      response: {\n",
              "        action: 'continue',\n",
              "      }\n",
              "    };\n",
              "\n",
              "    // Use a chunked sending to avoid message size limits. See b/62115660.\n",
              "    let position = 0;\n",
              "    do {\n",
              "      const length = Math.min(fileData.byteLength - position, MAX_PAYLOAD_SIZE);\n",
              "      const chunk = new Uint8Array(fileData, position, length);\n",
              "      position += length;\n",
              "\n",
              "      const base64 = btoa(String.fromCharCode.apply(null, chunk));\n",
              "      yield {\n",
              "        response: {\n",
              "          action: 'append',\n",
              "          file: file.name,\n",
              "          data: base64,\n",
              "        },\n",
              "      };\n",
              "\n",
              "      let percentDone = fileData.byteLength === 0 ?\n",
              "          100 :\n",
              "          Math.round((position / fileData.byteLength) * 100);\n",
              "      percent.textContent = `${percentDone}% done`;\n",
              "\n",
              "    } while (position < fileData.byteLength);\n",
              "  }\n",
              "\n",
              "  // All done.\n",
              "  yield {\n",
              "    response: {\n",
              "      action: 'complete',\n",
              "    }\n",
              "  };\n",
              "}\n",
              "\n",
              "scope.google = scope.google || {};\n",
              "scope.google.colab = scope.google.colab || {};\n",
              "scope.google.colab._files = {\n",
              "  _uploadFiles,\n",
              "  _uploadFilesContinue,\n",
              "};\n",
              "})(self);\n",
              "</script> "
            ]
          },
          "metadata": {}
        },
        {
          "output_type": "stream",
          "name": "stdout",
          "text": [
            "Saving fifa21_raw_data.csv to fifa21_raw_data.csv\n"
          ]
        }
      ]
    },
    {
      "cell_type": "code",
      "source": [
        "df = pd.read_csv('fifa21_raw_data.csv')"
      ],
      "metadata": {
        "colab": {
          "base_uri": "https://localhost:8080/",
          "height": 0
        },
        "id": "mXPfOt4wMFke",
        "outputId": "531ccaec-c264-492c-8c7a-d0955c5c81a0"
      },
      "execution_count": 5,
      "outputs": [
        {
          "output_type": "stream",
          "name": "stderr",
          "text": [
            "/tmp/ipython-input-830073151.py:1: DtypeWarning: Columns (76) have mixed types. Specify dtype option on import or set low_memory=False.\n",
            "  df = pd.read_csv('fifa21_raw_data.csv')\n"
          ]
        }
      ]
    },
    {
      "cell_type": "code",
      "source": [
        "print(\"Shape of dataset:\", df.shape)\n",
        "print(\"\\nColumn names:\\n\", df.columns.tolist())\n",
        "print(\"\\nData types:\\n\", df.dtypes)\n",
        "print(\"\\nMissing values:\\n\", df.isnull().sum())\n",
        "print(\"\\nBasic Statistics:\\n\", df.describe(include='all'))"
      ],
      "metadata": {
        "colab": {
          "base_uri": "https://localhost:8080/",
          "height": 0
        },
        "id": "8-9-ibdNLnnY",
        "outputId": "314bafc6-3a99-47ba-f64c-3db7b7f35b0e"
      },
      "execution_count": 6,
      "outputs": [
        {
          "output_type": "stream",
          "name": "stdout",
          "text": [
            "Shape of dataset: (18979, 77)\n",
            "\n",
            "Column names:\n",
            " ['photoUrl', 'LongName', 'playerUrl', 'Nationality', 'Positions', 'Name', 'Age', '↓OVA', 'POT', 'Team & Contract', 'ID', 'Height', 'Weight', 'foot', 'BOV', 'BP', 'Growth', 'Joined', 'Loan Date End', 'Value', 'Wage', 'Release Clause', 'Attacking', 'Crossing', 'Finishing', 'Heading Accuracy', 'Short Passing', 'Volleys', 'Skill', 'Dribbling', 'Curve', 'FK Accuracy', 'Long Passing', 'Ball Control', 'Movement', 'Acceleration', 'Sprint Speed', 'Agility', 'Reactions', 'Balance', 'Power', 'Shot Power', 'Jumping', 'Stamina', 'Strength', 'Long Shots', 'Mentality', 'Aggression', 'Interceptions', 'Positioning', 'Vision', 'Penalties', 'Composure', 'Defending', 'Marking', 'Standing Tackle', 'Sliding Tackle', 'Goalkeeping', 'GK Diving', 'GK Handling', 'GK Kicking', 'GK Positioning', 'GK Reflexes', 'Total Stats', 'Base Stats', 'W/F', 'SM', 'A/W', 'D/W', 'IR', 'PAC', 'SHO', 'PAS', 'DRI', 'DEF', 'PHY', 'Hits']\n",
            "\n",
            "Data types:\n",
            " photoUrl       object\n",
            "LongName       object\n",
            "playerUrl      object\n",
            "Nationality    object\n",
            "Positions      object\n",
            "                ...  \n",
            "PAS             int64\n",
            "DRI             int64\n",
            "DEF             int64\n",
            "PHY             int64\n",
            "Hits           object\n",
            "Length: 77, dtype: object\n",
            "\n",
            "Missing values:\n",
            " photoUrl       0\n",
            "LongName       0\n",
            "playerUrl      0\n",
            "Nationality    0\n",
            "Positions      0\n",
            "              ..\n",
            "PAS            0\n",
            "DRI            0\n",
            "DEF            0\n",
            "PHY            0\n",
            "Hits           0\n",
            "Length: 77, dtype: int64\n",
            "\n",
            "Basic Statistics:\n",
            "                                                 photoUrl    LongName  \\\n",
            "count                                              18979       18979   \n",
            "unique                                             18978       18851   \n",
            "top     https://cdn.sofifa.com/players/251/698/21_60.png  Danny Rose   \n",
            "freq                                                   2           3   \n",
            "mean                                                 NaN         NaN   \n",
            "std                                                  NaN         NaN   \n",
            "min                                                  NaN         NaN   \n",
            "25%                                                  NaN         NaN   \n",
            "50%                                                  NaN         NaN   \n",
            "75%                                                  NaN         NaN   \n",
            "max                                                  NaN         NaN   \n",
            "\n",
            "                                                playerUrl Nationality  \\\n",
            "count                                               18979       18979   \n",
            "unique                                              18978         164   \n",
            "top     http://sofifa.com/player/251698/kevin-berlaso/...     England   \n",
            "freq                                                    2        1704   \n",
            "mean                                                  NaN         NaN   \n",
            "std                                                   NaN         NaN   \n",
            "min                                                   NaN         NaN   \n",
            "25%                                                   NaN         NaN   \n",
            "50%                                                   NaN         NaN   \n",
            "75%                                                   NaN         NaN   \n",
            "max                                                   NaN         NaN   \n",
            "\n",
            "       Positions          Name           Age          ↓OVA           POT  \\\n",
            "count      18979         18979  18979.000000  18979.000000  18979.000000   \n",
            "unique       640         17919           NaN           NaN           NaN   \n",
            "top           CB  J. Rodríguez           NaN           NaN           NaN   \n",
            "freq        2441            13           NaN           NaN           NaN   \n",
            "mean         NaN           NaN     25.194583     65.718636     71.136098   \n",
            "std          NaN           NaN      4.710753      6.968999      6.114176   \n",
            "min          NaN           NaN     16.000000     47.000000     47.000000   \n",
            "25%          NaN           NaN     21.000000     61.000000     67.000000   \n",
            "50%          NaN           NaN     25.000000     66.000000     71.000000   \n",
            "75%          NaN           NaN     29.000000     70.000000     75.000000   \n",
            "max          NaN           NaN     53.000000     93.000000     95.000000   \n",
            "\n",
            "           Team & Contract  ...     A/W     D/W     IR           PAC  \\\n",
            "count                18979  ...   18979   18979  18979  18979.000000   \n",
            "unique                9023  ...       3       3      5           NaN   \n",
            "top     \\n India\\nFree\\n\\n  ...  Medium  Medium    1 ★           NaN   \n",
            "freq                    29  ...   12700   13956  17628           NaN   \n",
            "mean                   NaN  ...     NaN     NaN    NaN     67.454239   \n",
            "std                    NaN  ...     NaN     NaN    NaN     10.678058   \n",
            "min                    NaN  ...     NaN     NaN    NaN     25.000000   \n",
            "25%                    NaN  ...     NaN     NaN    NaN     61.000000   \n",
            "50%                    NaN  ...     NaN     NaN    NaN     68.000000   \n",
            "75%                    NaN  ...     NaN     NaN    NaN     75.000000   \n",
            "max                    NaN  ...     NaN     NaN    NaN     96.000000   \n",
            "\n",
            "                 SHO           PAS           DRI           DEF           PHY  \\\n",
            "count   18979.000000  18979.000000  18979.000000  18979.000000  18979.000000   \n",
            "unique           NaN           NaN           NaN           NaN           NaN   \n",
            "top              NaN           NaN           NaN           NaN           NaN   \n",
            "freq             NaN           NaN           NaN           NaN           NaN   \n",
            "mean       53.457716     57.681069     62.875494     49.865904     64.368618   \n",
            "std        13.827229     10.081914      9.927875     16.442730      9.601665   \n",
            "min        16.000000     25.000000     25.000000     12.000000     28.000000   \n",
            "25%        44.000000     51.000000     57.000000     35.000000     58.000000   \n",
            "50%        56.000000     58.000000     64.000000     53.000000     65.000000   \n",
            "75%        64.000000     64.000000     69.000000     63.000000     71.000000   \n",
            "max        93.000000     93.000000     95.000000     91.000000     91.000000   \n",
            "\n",
            "         Hits  \n",
            "count   18979  \n",
            "unique    408  \n",
            "top       \\n1  \n",
            "freq     3216  \n",
            "mean      NaN  \n",
            "std       NaN  \n",
            "min       NaN  \n",
            "25%       NaN  \n",
            "50%       NaN  \n",
            "75%       NaN  \n",
            "max       NaN  \n",
            "\n",
            "[11 rows x 77 columns]\n"
          ]
        }
      ]
    },
    {
      "cell_type": "code",
      "source": [
        "for col in df.columns:\n",
        "    if df[col].dtype in ['int64', 'float64']:\n",
        "        # fill numeric with mean\n",
        "        df[col] = df[col].fillna(df[col].mean())\n",
        "        # OR use median:\n",
        "        # df[col] = df[col].fillna(df[col].median())\n",
        "    else:\n",
        "        # fill categorical with mode\n",
        "        df[col] = df[col].fillna(df[col].mode()[0])"
      ],
      "metadata": {
        "id": "hxo6S40uL8vG"
      },
      "execution_count": 7,
      "outputs": []
    },
    {
      "cell_type": "code",
      "source": [
        "print(\"\\nMissing values after cleaning:\\n\", df.isnull().sum().sum())\n",
        "print(\"Dataset is cleaned ✅\")"
      ],
      "metadata": {
        "colab": {
          "base_uri": "https://localhost:8080/",
          "height": 0
        },
        "id": "p1Jtd51LMQth",
        "outputId": "e99a912e-749f-4753-dd2e-9b05f43ee1af"
      },
      "execution_count": 8,
      "outputs": [
        {
          "output_type": "stream",
          "name": "stdout",
          "text": [
            "\n",
            "Missing values after cleaning:\n",
            " 0\n",
            "Dataset is cleaned ✅\n"
          ]
        }
      ]
    },
    {
      "cell_type": "code",
      "source": [
        "df.to_csv(\"cleaned_dataset.csv\", index=False)\n",
        "print(\"\\nCleaned dataset saved as 'cleaned_dataset.csv'\")"
      ],
      "metadata": {
        "colab": {
          "base_uri": "https://localhost:8080/",
          "height": 0
        },
        "id": "9NB0h9ZuMS2Z",
        "outputId": "90e1c08a-9d91-4157-ce1d-03cacab9c1dd"
      },
      "execution_count": 9,
      "outputs": [
        {
          "output_type": "stream",
          "name": "stdout",
          "text": [
            "\n",
            "Cleaned dataset saved as 'cleaned_dataset.csv'\n"
          ]
        }
      ]
    },
    {
      "cell_type": "code",
      "source": [],
      "metadata": {
        "id": "3T0Ws7SEMV3H"
      },
      "execution_count": null,
      "outputs": []
    }
  ]
}